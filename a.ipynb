{
 "cells": [
  {
   "cell_type": "markdown",
   "id": "1049ad26",
   "metadata": {},
   "source": [
    "<table>\n",
    "  <tr>\n",
    "    <td colspan=\"3\">结构图 —— version_1</td>\n",
    "  </tr>\n",
    "</table>\n",
    "\n",
    "| 模块                | 功能                 | 模块路径  | 进度  |\n",
    "|---------------------|----------------------|----------------------|-------|\n",
    "| 记忆模块（Memory）  | 根据输入进行输出     | memory    | 50%    |\n",
    "| 工具模块(tools)  | 实现大模型推理api     | tools   | 80%    |\n",
    "| 执行模块(action)  | 调用工具，实现情感回答     | action    | 0%    |\n",
    "| 感知模块(perception)  | 根据输入，判断处理方法     | perception    | 0%    |\n"
   ]
  }
 ],
 "metadata": {
  "language_info": {
   "name": "python"
  }
 },
 "nbformat": 4,
 "nbformat_minor": 5
}
